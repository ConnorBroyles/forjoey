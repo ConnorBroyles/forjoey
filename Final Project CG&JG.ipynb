{
 "cells": [
  {
   "cell_type": "code",
   "execution_count": 75,
   "id": "c262ccbf",
   "metadata": {},
   "outputs": [],
   "source": [
    "import numpy as np\n",
    "import pandas as pd\n",
    "import seaborn as sns\n",
    "import matplotlib.pyplot as plt\n",
    "from sklearn.impute import SimpleImputer\n",
    "from sklearn.model_selection import train_test_split\n",
    "from sklearn.tree import DecisionTreeRegressor\n",
    "from sklearn.tree import plot_tree\n",
    "from sklearn.svm import SVR"
   ]
  },
  {
   "cell_type": "code",
   "execution_count": 48,
   "id": "eaed765b",
   "metadata": {},
   "outputs": [],
   "source": [
    "ds=pd.read_csv('LoL Data.csv')"
   ]
  },
  {
   "cell_type": "code",
   "execution_count": 49,
   "id": "977c88ad",
   "metadata": {},
   "outputs": [
    {
     "data": {
      "text/plain": [
       "Team                     0\n",
       "Player                   0\n",
       "Opponent                 0\n",
       "Position                 0\n",
       "Champion                 0\n",
       "Kills                    0\n",
       "Deaths                   0\n",
       "Assists                  0\n",
       "Creep Score              0\n",
       "Gold Earned              0\n",
       "Champion Damage Share    0\n",
       "Kill Participation       0\n",
       "Wards Placed             0\n",
       "Wards Destroyed          0\n",
       "Ward Interactions        0\n",
       "Dragons For              0\n",
       "Dragons Against          0\n",
       "Barons For               0\n",
       "Barons Against           0\n",
       "Result                   0\n",
       "dtype: int64"
      ]
     },
     "execution_count": 49,
     "metadata": {},
     "output_type": "execute_result"
    }
   ],
   "source": [
    "ds.isnull().sum()"
   ]
  },
  {
   "cell_type": "code",
   "execution_count": 50,
   "id": "8d616aed",
   "metadata": {},
   "outputs": [
    {
     "data": {
      "text/html": [
       "<div>\n",
       "<style scoped>\n",
       "    .dataframe tbody tr th:only-of-type {\n",
       "        vertical-align: middle;\n",
       "    }\n",
       "\n",
       "    .dataframe tbody tr th {\n",
       "        vertical-align: top;\n",
       "    }\n",
       "\n",
       "    .dataframe thead th {\n",
       "        text-align: right;\n",
       "    }\n",
       "</style>\n",
       "<table border=\"1\" class=\"dataframe\">\n",
       "  <thead>\n",
       "    <tr style=\"text-align: right;\">\n",
       "      <th></th>\n",
       "      <th>Team</th>\n",
       "      <th>Player</th>\n",
       "      <th>Opponent</th>\n",
       "      <th>Position</th>\n",
       "      <th>Champion</th>\n",
       "      <th>Kills</th>\n",
       "      <th>Deaths</th>\n",
       "      <th>Assists</th>\n",
       "      <th>Creep Score</th>\n",
       "      <th>Gold Earned</th>\n",
       "      <th>Champion Damage Share</th>\n",
       "      <th>Kill Participation</th>\n",
       "      <th>Wards Placed</th>\n",
       "      <th>Wards Destroyed</th>\n",
       "      <th>Ward Interactions</th>\n",
       "      <th>Dragons For</th>\n",
       "      <th>Dragons Against</th>\n",
       "      <th>Barons For</th>\n",
       "      <th>Barons Against</th>\n",
       "      <th>Result</th>\n",
       "    </tr>\n",
       "  </thead>\n",
       "  <tbody>\n",
       "    <tr>\n",
       "      <th>0</th>\n",
       "      <td>UOL</td>\n",
       "      <td>Boss</td>\n",
       "      <td>GS</td>\n",
       "      <td>Top</td>\n",
       "      <td>Camille</td>\n",
       "      <td>4</td>\n",
       "      <td>5</td>\n",
       "      <td>3</td>\n",
       "      <td>188</td>\n",
       "      <td>11107</td>\n",
       "      <td>0.17</td>\n",
       "      <td>0.78</td>\n",
       "      <td>8</td>\n",
       "      <td>8</td>\n",
       "      <td>16</td>\n",
       "      <td>0</td>\n",
       "      <td>4</td>\n",
       "      <td>0</td>\n",
       "      <td>1</td>\n",
       "      <td>L</td>\n",
       "    </tr>\n",
       "    <tr>\n",
       "      <th>1</th>\n",
       "      <td>GS</td>\n",
       "      <td>Crazy</td>\n",
       "      <td>UOL</td>\n",
       "      <td>Top</td>\n",
       "      <td>Gwen</td>\n",
       "      <td>3</td>\n",
       "      <td>1</td>\n",
       "      <td>9</td>\n",
       "      <td>217</td>\n",
       "      <td>12201</td>\n",
       "      <td>0.20</td>\n",
       "      <td>0.52</td>\n",
       "      <td>10</td>\n",
       "      <td>7</td>\n",
       "      <td>17</td>\n",
       "      <td>4</td>\n",
       "      <td>0</td>\n",
       "      <td>1</td>\n",
       "      <td>0</td>\n",
       "      <td>W</td>\n",
       "    </tr>\n",
       "    <tr>\n",
       "      <th>2</th>\n",
       "      <td>UOL</td>\n",
       "      <td>Ahahacik</td>\n",
       "      <td>GS</td>\n",
       "      <td>Jungle</td>\n",
       "      <td>Trundle</td>\n",
       "      <td>2</td>\n",
       "      <td>4</td>\n",
       "      <td>5</td>\n",
       "      <td>156</td>\n",
       "      <td>9048</td>\n",
       "      <td>0.15</td>\n",
       "      <td>0.78</td>\n",
       "      <td>8</td>\n",
       "      <td>14</td>\n",
       "      <td>22</td>\n",
       "      <td>0</td>\n",
       "      <td>4</td>\n",
       "      <td>0</td>\n",
       "      <td>1</td>\n",
       "      <td>L</td>\n",
       "    </tr>\n",
       "    <tr>\n",
       "      <th>3</th>\n",
       "      <td>GS</td>\n",
       "      <td>Mojito</td>\n",
       "      <td>UOL</td>\n",
       "      <td>Jungle</td>\n",
       "      <td>Talon</td>\n",
       "      <td>5</td>\n",
       "      <td>4</td>\n",
       "      <td>10</td>\n",
       "      <td>194</td>\n",
       "      <td>11234</td>\n",
       "      <td>0.23</td>\n",
       "      <td>0.65</td>\n",
       "      <td>12</td>\n",
       "      <td>8</td>\n",
       "      <td>20</td>\n",
       "      <td>4</td>\n",
       "      <td>0</td>\n",
       "      <td>1</td>\n",
       "      <td>0</td>\n",
       "      <td>W</td>\n",
       "    </tr>\n",
       "    <tr>\n",
       "      <th>4</th>\n",
       "      <td>UOL</td>\n",
       "      <td>Nomanz</td>\n",
       "      <td>GS</td>\n",
       "      <td>Mid</td>\n",
       "      <td>Leblanc</td>\n",
       "      <td>1</td>\n",
       "      <td>3</td>\n",
       "      <td>4</td>\n",
       "      <td>216</td>\n",
       "      <td>9245</td>\n",
       "      <td>0.29</td>\n",
       "      <td>0.56</td>\n",
       "      <td>6</td>\n",
       "      <td>9</td>\n",
       "      <td>15</td>\n",
       "      <td>0</td>\n",
       "      <td>4</td>\n",
       "      <td>0</td>\n",
       "      <td>1</td>\n",
       "      <td>L</td>\n",
       "    </tr>\n",
       "  </tbody>\n",
       "</table>\n",
       "</div>"
      ],
      "text/plain": [
       "  Team    Player Opponent Position Champion  Kills  Deaths  Assists  \\\n",
       "0  UOL      Boss       GS      Top  Camille      4       5        3   \n",
       "1   GS     Crazy      UOL      Top     Gwen      3       1        9   \n",
       "2  UOL  Ahahacik       GS   Jungle  Trundle      2       4        5   \n",
       "3   GS    Mojito      UOL   Jungle    Talon      5       4       10   \n",
       "4  UOL    Nomanz       GS      Mid  Leblanc      1       3        4   \n",
       "\n",
       "   Creep Score  Gold Earned  Champion Damage Share  Kill Participation  \\\n",
       "0          188        11107                   0.17                0.78   \n",
       "1          217        12201                   0.20                0.52   \n",
       "2          156         9048                   0.15                0.78   \n",
       "3          194        11234                   0.23                0.65   \n",
       "4          216         9245                   0.29                0.56   \n",
       "\n",
       "   Wards Placed  Wards Destroyed  Ward Interactions  Dragons For  \\\n",
       "0             8                8                 16            0   \n",
       "1            10                7                 17            4   \n",
       "2             8               14                 22            0   \n",
       "3            12                8                 20            4   \n",
       "4             6                9                 15            0   \n",
       "\n",
       "   Dragons Against  Barons For  Barons Against Result  \n",
       "0                4           0               1      L  \n",
       "1                0           1               0      W  \n",
       "2                4           0               1      L  \n",
       "3                0           1               0      W  \n",
       "4                4           0               1      L  "
      ]
     },
     "execution_count": 50,
     "metadata": {},
     "output_type": "execute_result"
    }
   ],
   "source": [
    "ds.head()"
   ]
  },
  {
   "cell_type": "code",
   "execution_count": 51,
   "id": "a90a0da7",
   "metadata": {},
   "outputs": [
    {
     "name": "stdout",
     "output_type": "stream",
     "text": [
      "<class 'pandas.core.frame.DataFrame'>\n",
      "RangeIndex: 215 entries, 0 to 214\n",
      "Data columns (total 20 columns):\n",
      " #   Column                 Non-Null Count  Dtype  \n",
      "---  ------                 --------------  -----  \n",
      " 0   Team                   215 non-null    object \n",
      " 1   Player                 215 non-null    object \n",
      " 2   Opponent               215 non-null    object \n",
      " 3   Position               215 non-null    object \n",
      " 4   Champion               215 non-null    object \n",
      " 5   Kills                  215 non-null    int64  \n",
      " 6   Deaths                 215 non-null    int64  \n",
      " 7   Assists                215 non-null    int64  \n",
      " 8   Creep Score            215 non-null    int64  \n",
      " 9   Gold Earned            215 non-null    int64  \n",
      " 10  Champion Damage Share  215 non-null    float64\n",
      " 11  Kill Participation     215 non-null    float64\n",
      " 12  Wards Placed           215 non-null    int64  \n",
      " 13  Wards Destroyed        215 non-null    int64  \n",
      " 14  Ward Interactions      215 non-null    int64  \n",
      " 15  Dragons For            215 non-null    int64  \n",
      " 16  Dragons Against        215 non-null    int64  \n",
      " 17  Barons For             215 non-null    int64  \n",
      " 18  Barons Against         215 non-null    int64  \n",
      " 19  Result                 215 non-null    object \n",
      "dtypes: float64(2), int64(12), object(6)\n",
      "memory usage: 33.7+ KB\n"
     ]
    }
   ],
   "source": [
    "ds.info()"
   ]
  },
  {
   "cell_type": "code",
   "execution_count": 52,
   "id": "e5af2073",
   "metadata": {},
   "outputs": [],
   "source": [
    "X=ds[['Deaths','Assists','Creep Score','Gold Earned','Champion Damage Share',\n",
    "      'Kill Participation','Wards Placed','Wards Destroyed',\n",
    "      'Dragons For','Barons For',]]"
   ]
  },
  {
   "cell_type": "code",
   "execution_count": null,
   "id": "10369270",
   "metadata": {},
   "outputs": [],
   "source": []
  },
  {
   "cell_type": "code",
   "execution_count": 53,
   "id": "0b0c75b2",
   "metadata": {},
   "outputs": [],
   "source": [
    "y=ds[['Kills']]"
   ]
  },
  {
   "cell_type": "code",
   "execution_count": 54,
   "id": "cc7409e1",
   "metadata": {},
   "outputs": [
    {
     "data": {
      "text/html": [
       "<div>\n",
       "<style scoped>\n",
       "    .dataframe tbody tr th:only-of-type {\n",
       "        vertical-align: middle;\n",
       "    }\n",
       "\n",
       "    .dataframe tbody tr th {\n",
       "        vertical-align: top;\n",
       "    }\n",
       "\n",
       "    .dataframe thead th {\n",
       "        text-align: right;\n",
       "    }\n",
       "</style>\n",
       "<table border=\"1\" class=\"dataframe\">\n",
       "  <thead>\n",
       "    <tr style=\"text-align: right;\">\n",
       "      <th></th>\n",
       "      <th>Kills</th>\n",
       "    </tr>\n",
       "  </thead>\n",
       "  <tbody>\n",
       "    <tr>\n",
       "      <th>0</th>\n",
       "      <td>4</td>\n",
       "    </tr>\n",
       "    <tr>\n",
       "      <th>1</th>\n",
       "      <td>3</td>\n",
       "    </tr>\n",
       "    <tr>\n",
       "      <th>2</th>\n",
       "      <td>2</td>\n",
       "    </tr>\n",
       "    <tr>\n",
       "      <th>3</th>\n",
       "      <td>5</td>\n",
       "    </tr>\n",
       "    <tr>\n",
       "      <th>4</th>\n",
       "      <td>1</td>\n",
       "    </tr>\n",
       "  </tbody>\n",
       "</table>\n",
       "</div>"
      ],
      "text/plain": [
       "   Kills\n",
       "0      4\n",
       "1      3\n",
       "2      2\n",
       "3      5\n",
       "4      1"
      ]
     },
     "execution_count": 54,
     "metadata": {},
     "output_type": "execute_result"
    }
   ],
   "source": [
    "y.head()"
   ]
  },
  {
   "cell_type": "code",
   "execution_count": 55,
   "id": "01a8452f",
   "metadata": {},
   "outputs": [],
   "source": [
    "X_train,X_test,y_train,y_test=train_test_split(X,y,test_size=.8,random_state=12)"
   ]
  },
  {
   "cell_type": "code",
   "execution_count": 56,
   "id": "0bde22c6",
   "metadata": {},
   "outputs": [],
   "source": [
    "from sklearn.linear_model import LinearRegression"
   ]
  },
  {
   "cell_type": "code",
   "execution_count": 57,
   "id": "98261eb1",
   "metadata": {},
   "outputs": [
    {
     "data": {
      "text/plain": [
       "LinearRegression()"
      ]
     },
     "execution_count": 57,
     "metadata": {},
     "output_type": "execute_result"
    }
   ],
   "source": [
    "regressor=LinearRegression()\n",
    "regressor.fit(X_train,y_train)"
   ]
  },
  {
   "cell_type": "code",
   "execution_count": 58,
   "id": "753597ff",
   "metadata": {},
   "outputs": [
    {
     "name": "stdout",
     "output_type": "stream",
     "text": [
      "Coefficioents [[-1.55593711e-01 -4.16883127e-02 -4.67910367e-02  1.58055969e-03\n",
      "   7.22792022e+00  2.43820814e-01 -7.68587151e-02  2.91300589e-03\n",
      "  -8.25796073e-02 -8.08302149e-01]]\n"
     ]
    }
   ],
   "source": [
    "print('Coefficioents',regressor.coef_)"
   ]
  },
  {
   "cell_type": "code",
   "execution_count": 59,
   "id": "b8951ea7",
   "metadata": {},
   "outputs": [
    {
     "name": "stdout",
     "output_type": "stream",
     "text": [
      "Intercept [-4.00224367]\n"
     ]
    }
   ],
   "source": [
    "print('Intercept',regressor.intercept_)"
   ]
  },
  {
   "cell_type": "code",
   "execution_count": 60,
   "id": "4d2e018c",
   "metadata": {},
   "outputs": [
    {
     "data": {
      "text/html": [
       "<div>\n",
       "<style scoped>\n",
       "    .dataframe tbody tr th:only-of-type {\n",
       "        vertical-align: middle;\n",
       "    }\n",
       "\n",
       "    .dataframe tbody tr th {\n",
       "        vertical-align: top;\n",
       "    }\n",
       "\n",
       "    .dataframe thead th {\n",
       "        text-align: right;\n",
       "    }\n",
       "</style>\n",
       "<table border=\"1\" class=\"dataframe\">\n",
       "  <thead>\n",
       "    <tr style=\"text-align: right;\">\n",
       "      <th></th>\n",
       "      <th>Deaths</th>\n",
       "      <th>Assists</th>\n",
       "      <th>Creep Score</th>\n",
       "      <th>Gold Earned</th>\n",
       "      <th>Champion Damage Share</th>\n",
       "      <th>Kill Participation</th>\n",
       "      <th>Wards Placed</th>\n",
       "      <th>Wards Destroyed</th>\n",
       "      <th>Dragons For</th>\n",
       "      <th>Barons For</th>\n",
       "    </tr>\n",
       "  </thead>\n",
       "  <tbody>\n",
       "    <tr>\n",
       "      <th>0</th>\n",
       "      <td>5</td>\n",
       "      <td>3</td>\n",
       "      <td>188</td>\n",
       "      <td>11107</td>\n",
       "      <td>0.17</td>\n",
       "      <td>0.78</td>\n",
       "      <td>8</td>\n",
       "      <td>8</td>\n",
       "      <td>0</td>\n",
       "      <td>0</td>\n",
       "    </tr>\n",
       "    <tr>\n",
       "      <th>1</th>\n",
       "      <td>1</td>\n",
       "      <td>9</td>\n",
       "      <td>217</td>\n",
       "      <td>12201</td>\n",
       "      <td>0.20</td>\n",
       "      <td>0.52</td>\n",
       "      <td>10</td>\n",
       "      <td>7</td>\n",
       "      <td>4</td>\n",
       "      <td>1</td>\n",
       "    </tr>\n",
       "    <tr>\n",
       "      <th>2</th>\n",
       "      <td>4</td>\n",
       "      <td>5</td>\n",
       "      <td>156</td>\n",
       "      <td>9048</td>\n",
       "      <td>0.15</td>\n",
       "      <td>0.78</td>\n",
       "      <td>8</td>\n",
       "      <td>14</td>\n",
       "      <td>0</td>\n",
       "      <td>0</td>\n",
       "    </tr>\n",
       "    <tr>\n",
       "      <th>3</th>\n",
       "      <td>4</td>\n",
       "      <td>10</td>\n",
       "      <td>194</td>\n",
       "      <td>11234</td>\n",
       "      <td>0.23</td>\n",
       "      <td>0.65</td>\n",
       "      <td>12</td>\n",
       "      <td>8</td>\n",
       "      <td>4</td>\n",
       "      <td>1</td>\n",
       "    </tr>\n",
       "    <tr>\n",
       "      <th>4</th>\n",
       "      <td>3</td>\n",
       "      <td>4</td>\n",
       "      <td>216</td>\n",
       "      <td>9245</td>\n",
       "      <td>0.29</td>\n",
       "      <td>0.56</td>\n",
       "      <td>6</td>\n",
       "      <td>9</td>\n",
       "      <td>0</td>\n",
       "      <td>0</td>\n",
       "    </tr>\n",
       "  </tbody>\n",
       "</table>\n",
       "</div>"
      ],
      "text/plain": [
       "   Deaths  Assists  Creep Score  Gold Earned  Champion Damage Share  \\\n",
       "0       5        3          188        11107                   0.17   \n",
       "1       1        9          217        12201                   0.20   \n",
       "2       4        5          156         9048                   0.15   \n",
       "3       4       10          194        11234                   0.23   \n",
       "4       3        4          216         9245                   0.29   \n",
       "\n",
       "   Kill Participation  Wards Placed  Wards Destroyed  Dragons For  Barons For  \n",
       "0                0.78             8                8            0           0  \n",
       "1                0.52            10                7            4           1  \n",
       "2                0.78             8               14            0           0  \n",
       "3                0.65            12                8            4           1  \n",
       "4                0.56             6                9            0           0  "
      ]
     },
     "execution_count": 60,
     "metadata": {},
     "output_type": "execute_result"
    }
   ],
   "source": [
    "X.head()"
   ]
  },
  {
   "cell_type": "markdown",
   "id": "b4cd6691",
   "metadata": {},
   "source": [
    "# SVR"
   ]
  },
  {
   "cell_type": "code",
   "execution_count": 61,
   "id": "91d4afc1",
   "metadata": {},
   "outputs": [
    {
     "name": "stderr",
     "output_type": "stream",
     "text": [
      "C:\\Users\\Connor\\anaconda3\\lib\\site-packages\\sklearn\\utils\\validation.py:63: DataConversionWarning: A column-vector y was passed when a 1d array was expected. Please change the shape of y to (n_samples, ), for example using ravel().\n",
      "  return f(*args, **kwargs)\n"
     ]
    },
    {
     "data": {
      "text/plain": [
       "SVR()"
      ]
     },
     "execution_count": 61,
     "metadata": {},
     "output_type": "execute_result"
    }
   ],
   "source": [
    "from sklearn.svm import SVR\n",
    "regressor=SVR(kernel='rbf')\n",
    "regressor.fit(X,y)"
   ]
  },
  {
   "cell_type": "code",
   "execution_count": 62,
   "id": "17e8efaf",
   "metadata": {},
   "outputs": [],
   "source": [
    "from sklearn.preprocessing import StandardScaler\n",
    "sc_X=StandardScaler()\n",
    "sc_y=StandardScaler()\n",
    "X_train=sc_X.fit_transform(X_train)\n",
    "y_train=sc_y.fit_transform(y_train)"
   ]
  },
  {
   "cell_type": "markdown",
   "id": "4d2e823d",
   "metadata": {},
   "source": [
    "# Training SVR"
   ]
  },
  {
   "cell_type": "code",
   "execution_count": 63,
   "id": "b0ff9d79",
   "metadata": {},
   "outputs": [
    {
     "name": "stderr",
     "output_type": "stream",
     "text": [
      "C:\\Users\\Connor\\anaconda3\\lib\\site-packages\\sklearn\\utils\\validation.py:63: DataConversionWarning: A column-vector y was passed when a 1d array was expected. Please change the shape of y to (n_samples, ), for example using ravel().\n",
      "  return f(*args, **kwargs)\n"
     ]
    },
    {
     "data": {
      "text/plain": [
       "SVR()"
      ]
     },
     "execution_count": 63,
     "metadata": {},
     "output_type": "execute_result"
    }
   ],
   "source": [
    "from sklearn.svm import SVR\n",
    "regressor=SVR(kernel='rbf')\n",
    "regressor.fit(X_train,y_train)"
   ]
  },
  {
   "cell_type": "code",
   "execution_count": 64,
   "id": "9d2a522a",
   "metadata": {},
   "outputs": [],
   "source": [
    "# Predicting\n",
    "y_pred=sc_y.inverse_transform(regressor.predict(sc_X.transform(X_test)).reshape(-1,1))"
   ]
  },
  {
   "attachments": {
    "image-2.png": {
     "image/png": "[encoded data removed]"
    }
   },
   "cell_type": "markdown",
   "id": "a1f303e8",
   "metadata": {},
   "source": [
    "![image-2.png](attachment:image-2.png)"
   ]
  },
  {
   "cell_type": "code",
   "execution_count": 70,
   "id": "e74a05a9",
   "metadata": {},
   "outputs": [],
   "source": [
    "#Did not include Ward Int, Dragons Against, and Barons Against"
   ]
  },
  {
   "cell_type": "code",
   "execution_count": 69,
   "id": "b8e3d633",
   "metadata": {},
   "outputs": [
    {
     "data": {
      "text/plain": [
       "array([[0.90421902]])"
      ]
     },
     "execution_count": 69,
     "metadata": {},
     "output_type": "execute_result"
    }
   ],
   "source": [
    "sc_y.inverse_transform(regressor.predict(sc_X.transform([[4,3,184,11442,.13,.43,19,11,1,1]])).reshape(-1,1))"
   ]
  },
  {
   "cell_type": "code",
   "execution_count": 71,
   "id": "a57ca19e",
   "metadata": {},
   "outputs": [
    {
     "data": {
      "text/plain": [
       "array([[3.93938801]])"
      ]
     },
     "execution_count": 71,
     "metadata": {},
     "output_type": "execute_result"
    }
   ],
   "source": [
    "sc_y.inverse_transform(regressor.predict(sc_X.transform([[3,10,177,11761,.16,.58,7,7,4,1]])).reshape(-1,1))"
   ]
  },
  {
   "cell_type": "code",
   "execution_count": 72,
   "id": "4e21f2fc",
   "metadata": {},
   "outputs": [
    {
     "data": {
      "text/plain": [
       "array([[5.11520941]])"
      ]
     },
     "execution_count": 72,
     "metadata": {},
     "output_type": "execute_result"
    }
   ],
   "source": [
    "sc_y.inverse_transform(regressor.predict(sc_X.transform([[2,4,367,16052,.3,.64,11,13,1,1]])).reshape(-1,1))"
   ]
  },
  {
   "cell_type": "code",
   "execution_count": 73,
   "id": "850c2348",
   "metadata": {},
   "outputs": [
    {
     "data": {
      "text/plain": [
       "array([[2.71597959]])"
      ]
     },
     "execution_count": 73,
     "metadata": {},
     "output_type": "execute_result"
    }
   ],
   "source": [
    "sc_y.inverse_transform(regressor.predict(sc_X.transform([[4,2,356,15558,.23,.32,24,6,4,1]])).reshape(-1,1))"
   ]
  },
  {
   "cell_type": "markdown",
   "id": "d9a9f38a",
   "metadata": {},
   "source": [
    "# ModelPerformance"
   ]
  },
  {
   "cell_type": "code",
   "execution_count": 102,
   "id": "e065ed90",
   "metadata": {},
   "outputs": [
    {
     "name": "stdout",
     "output_type": "stream",
     "text": [
      "R-Square 0.9343451180875576\n"
     ]
    }
   ],
   "source": [
    "from sklearn.metrics import r2_score\n",
    "print('R-Square',r2_score(y_test,y_pred))"
   ]
  },
  {
   "cell_type": "code",
   "execution_count": 78,
   "id": "c9797aac",
   "metadata": {},
   "outputs": [
    {
     "name": "stdout",
     "output_type": "stream",
     "text": [
      "The Mean Square error is 1.509666251471904\n"
     ]
    }
   ],
   "source": [
    "from sklearn.metrics import mean_squared_error as msc\n",
    "from math import sqrt\n",
    "rms=sqrt(msc(y_test,y_pred))\n",
    "print('The Mean Square error is', rms)"
   ]
  },
  {
   "cell_type": "markdown",
   "id": "67fb10a9",
   "metadata": {},
   "source": [
    "# DTR"
   ]
  },
  {
   "cell_type": "code",
   "execution_count": 79,
   "id": "ec52b342",
   "metadata": {},
   "outputs": [],
   "source": [
    "y_pred=regressor.predict(X_test)"
   ]
  },
  {
   "cell_type": "code",
   "execution_count": 80,
   "id": "b3044a6c",
   "metadata": {},
   "outputs": [
    {
     "data": {
      "text/plain": [
       "LinearRegression()"
      ]
     },
     "execution_count": 80,
     "metadata": {},
     "output_type": "execute_result"
    }
   ],
   "source": [
    "X_train, X_test, y_train, y_test = train_test_split(X, y, test_size = 0.2, random_state = 0)\n",
    "regressor = LinearRegression()\n",
    "regressor.fit(X,y)"
   ]
  },
  {
   "cell_type": "code",
   "execution_count": 81,
   "id": "7911d043",
   "metadata": {},
   "outputs": [
    {
     "data": {
      "text/plain": [
       "DecisionTreeRegressor(random_state=0)"
      ]
     },
     "execution_count": 81,
     "metadata": {},
     "output_type": "execute_result"
    }
   ],
   "source": [
    "regressor=DecisionTreeRegressor(random_state=0)\n",
    "regressor.fit(X_train,y_train)"
   ]
  },
  {
   "cell_type": "code",
   "execution_count": 82,
   "id": "6567a320",
   "metadata": {},
   "outputs": [],
   "source": [
    "y_pred=regressor.predict(X_test)"
   ]
  },
  {
   "cell_type": "markdown",
   "id": "6c341bd1",
   "metadata": {},
   "source": [
    "## Predicting Using DTR"
   ]
  },
  {
   "cell_type": "code",
   "execution_count": 85,
   "id": "26dfc511",
   "metadata": {},
   "outputs": [
    {
     "data": {
      "text/plain": [
       "array([2.])"
      ]
     },
     "execution_count": 85,
     "metadata": {},
     "output_type": "execute_result"
    }
   ],
   "source": [
    "regressor.predict([[4,3,184,11442,.13,.43,19,11,1,1]])"
   ]
  },
  {
   "cell_type": "code",
   "execution_count": 86,
   "id": "0685d023",
   "metadata": {},
   "outputs": [
    {
     "data": {
      "text/plain": [
       "array([2.])"
      ]
     },
     "execution_count": 86,
     "metadata": {},
     "output_type": "execute_result"
    }
   ],
   "source": [
    "regressor.predict([[3,10,177,11761,.16,.58,7,7,4,1]])"
   ]
  },
  {
   "cell_type": "code",
   "execution_count": 87,
   "id": "07c18ad0",
   "metadata": {},
   "outputs": [
    {
     "data": {
      "text/plain": [
       "array([9.])"
      ]
     },
     "execution_count": 87,
     "metadata": {},
     "output_type": "execute_result"
    }
   ],
   "source": [
    "regressor.predict([[2,4,367,16052,.3,.64,11,13,1,1]])"
   ]
  },
  {
   "cell_type": "code",
   "execution_count": 88,
   "id": "11c9ac96",
   "metadata": {},
   "outputs": [
    {
     "data": {
      "text/plain": [
       "array([3.])"
      ]
     },
     "execution_count": 88,
     "metadata": {},
     "output_type": "execute_result"
    }
   ],
   "source": [
    "regressor.predict([[4,2,356,15558,.23,.32,24,6,4,1]])"
   ]
  },
  {
   "cell_type": "markdown",
   "id": "885df284",
   "metadata": {},
   "source": [
    "## Model Performance"
   ]
  },
  {
   "cell_type": "code",
   "execution_count": 101,
   "id": "84bdfebb",
   "metadata": {},
   "outputs": [
    {
     "name": "stdout",
     "output_type": "stream",
     "text": [
      "R-Square 0.9343451180875576\n"
     ]
    }
   ],
   "source": [
    "print('R-Square',r2_score(y_test,y_pred))"
   ]
  },
  {
   "cell_type": "code",
   "execution_count": 90,
   "id": "5409407a",
   "metadata": {},
   "outputs": [
    {
     "name": "stdout",
     "output_type": "stream",
     "text": [
      "The Mean Square error is 2.4824968676061645\n"
     ]
    }
   ],
   "source": [
    "from sklearn.metrics import mean_squared_error as msc\n",
    "from math import sqrt\n",
    "rms=sqrt(msc(y_test,y_pred))\n",
    "print('The Mean Square error is', rms)"
   ]
  },
  {
   "cell_type": "markdown",
   "id": "e976cd04",
   "metadata": {},
   "source": [
    "# RFT"
   ]
  },
  {
   "cell_type": "code",
   "execution_count": 91,
   "id": "17ced840",
   "metadata": {},
   "outputs": [
    {
     "data": {
      "text/plain": [
       "LinearRegression()"
      ]
     },
     "execution_count": 91,
     "metadata": {},
     "output_type": "execute_result"
    }
   ],
   "source": [
    "X_train, X_test, y_train, y_test = train_test_split(X, y, test_size = 0.2, random_state = 0)\n",
    "regressor = LinearRegression()\n",
    "regressor.fit(X,y)"
   ]
  },
  {
   "cell_type": "code",
   "execution_count": 92,
   "id": "02b75e0f",
   "metadata": {},
   "outputs": [
    {
     "name": "stderr",
     "output_type": "stream",
     "text": [
      "<ipython-input-92-40255d4da7b6>:3: DataConversionWarning: A column-vector y was passed when a 1d array was expected. Please change the shape of y to (n_samples,), for example using ravel().\n",
      "  regressor.fit(X,y)\n"
     ]
    },
    {
     "data": {
      "text/plain": [
       "RandomForestRegressor(n_estimators=20, random_state=0)"
      ]
     },
     "execution_count": 92,
     "metadata": {},
     "output_type": "execute_result"
    }
   ],
   "source": [
    "from sklearn.ensemble import RandomForestRegressor\n",
    "regressor=RandomForestRegressor(n_estimators=20,random_state=0)\n",
    "regressor.fit(X,y)"
   ]
  },
  {
   "cell_type": "code",
   "execution_count": 93,
   "id": "bde17575",
   "metadata": {},
   "outputs": [],
   "source": [
    "y_pred=regressor.predict(X_test)"
   ]
  },
  {
   "cell_type": "markdown",
   "id": "8d2c4050",
   "metadata": {},
   "source": [
    "# Predict using RFT"
   ]
  },
  {
   "cell_type": "code",
   "execution_count": 94,
   "id": "4d735765",
   "metadata": {},
   "outputs": [
    {
     "data": {
      "text/plain": [
       "array([1.65])"
      ]
     },
     "execution_count": 94,
     "metadata": {},
     "output_type": "execute_result"
    }
   ],
   "source": [
    "regressor.predict([[4,3,184,11442,.13,.43,19,11,1,1]])"
   ]
  },
  {
   "cell_type": "code",
   "execution_count": 95,
   "id": "62d87063",
   "metadata": {},
   "outputs": [
    {
     "data": {
      "text/plain": [
       "array([3.55])"
      ]
     },
     "execution_count": 95,
     "metadata": {},
     "output_type": "execute_result"
    }
   ],
   "source": [
    "regressor.predict([[3,10,177,11761,.16,.58,7,7,4,1]])"
   ]
  },
  {
   "cell_type": "code",
   "execution_count": 96,
   "id": "5262c4f6",
   "metadata": {},
   "outputs": [
    {
     "data": {
      "text/plain": [
       "array([5.65])"
      ]
     },
     "execution_count": 96,
     "metadata": {},
     "output_type": "execute_result"
    }
   ],
   "source": [
    "regressor.predict([[2,4,367,16052,.3,.64,11,13,1,1]])"
   ]
  },
  {
   "cell_type": "code",
   "execution_count": 97,
   "id": "1e291684",
   "metadata": {},
   "outputs": [
    {
     "data": {
      "text/plain": [
       "array([4.5])"
      ]
     },
     "execution_count": 97,
     "metadata": {},
     "output_type": "execute_result"
    }
   ],
   "source": [
    "regressor.predict([[4,2,356,15558,.23,.32,24,6,4,1]])"
   ]
  },
  {
   "cell_type": "markdown",
   "id": "cb5a9c77",
   "metadata": {},
   "source": [
    "# Model Preformance"
   ]
  },
  {
   "cell_type": "code",
   "execution_count": 100,
   "id": "420d51bd",
   "metadata": {},
   "outputs": [
    {
     "name": "stdout",
     "output_type": "stream",
     "text": [
      "R-Square 0.9343451180875576\n"
     ]
    }
   ],
   "source": [
    "print('R-Square',r2_score(y_test,y_pred))"
   ]
  },
  {
   "cell_type": "code",
   "execution_count": 99,
   "id": "f8798d82",
   "metadata": {},
   "outputs": [
    {
     "name": "stdout",
     "output_type": "stream",
     "text": [
      "The Mean Square error is 0.7022389442944053\n"
     ]
    }
   ],
   "source": [
    "rms=sqrt(msc(y_test,y_pred))\n",
    "print('The Mean Square error is', rms)"
   ]
  },
  {
   "cell_type": "markdown",
   "id": "bbe2ef61",
   "metadata": {},
   "source": [
    "# Linear Regression"
   ]
  },
  {
   "cell_type": "code",
   "execution_count": 103,
   "id": "7c311ebe",
   "metadata": {},
   "outputs": [
    {
     "data": {
      "text/plain": [
       "LinearRegression()"
      ]
     },
     "execution_count": 103,
     "metadata": {},
     "output_type": "execute_result"
    }
   ],
   "source": [
    "regressor = LinearRegression()\n",
    "regressor.fit(X,y)"
   ]
  },
  {
   "cell_type": "code",
   "execution_count": 104,
   "id": "0ddb39c3",
   "metadata": {},
   "outputs": [],
   "source": [
    "y_pred=regressor.predict(X_test)"
   ]
  },
  {
   "cell_type": "markdown",
   "id": "5b732bc5",
   "metadata": {},
   "source": [
    "# Predict Using LR"
   ]
  },
  {
   "cell_type": "code",
   "execution_count": 105,
   "id": "19452f1d",
   "metadata": {},
   "outputs": [
    {
     "data": {
      "text/plain": [
       "array([[3.34131892]])"
      ]
     },
     "execution_count": 105,
     "metadata": {},
     "output_type": "execute_result"
    }
   ],
   "source": [
    "regressor.predict([[4,3,184,11442,.13,.43,19,11,1,1]])"
   ]
  },
  {
   "cell_type": "code",
   "execution_count": 106,
   "id": "c06f73be",
   "metadata": {},
   "outputs": [
    {
     "data": {
      "text/plain": [
       "array([[4.65506916]])"
      ]
     },
     "execution_count": 106,
     "metadata": {},
     "output_type": "execute_result"
    }
   ],
   "source": [
    "regressor.predict([[3,10,177,11761,.16,.58,7,7,4,1]])"
   ]
  },
  {
   "cell_type": "code",
   "execution_count": 107,
   "id": "6bc0d08f",
   "metadata": {},
   "outputs": [
    {
     "data": {
      "text/plain": [
       "array([[4.46400728]])"
      ]
     },
     "execution_count": 107,
     "metadata": {},
     "output_type": "execute_result"
    }
   ],
   "source": [
    "regressor.predict([[2,4,367,16052,.3,.64,11,13,1,1]])"
   ]
  },
  {
   "cell_type": "code",
   "execution_count": 108,
   "id": "8a9d0ed3",
   "metadata": {},
   "outputs": [
    {
     "data": {
      "text/plain": [
       "array([[2.8872699]])"
      ]
     },
     "execution_count": 108,
     "metadata": {},
     "output_type": "execute_result"
    }
   ],
   "source": [
    "regressor.predict([[4,2,356,15558,.23,.32,24,6,4,1]])"
   ]
  },
  {
   "cell_type": "markdown",
   "id": "c62d1dd3",
   "metadata": {},
   "source": [
    "# Model Preformance"
   ]
  },
  {
   "cell_type": "code",
   "execution_count": 109,
   "id": "44efcf65",
   "metadata": {},
   "outputs": [
    {
     "name": "stdout",
     "output_type": "stream",
     "text": [
      "R-Square 0.8139916269438159\n"
     ]
    }
   ],
   "source": [
    "print('R-Square',r2_score(y_test,y_pred))"
   ]
  },
  {
   "cell_type": "code",
   "execution_count": 110,
   "id": "5ea44e1e",
   "metadata": {},
   "outputs": [
    {
     "name": "stdout",
     "output_type": "stream",
     "text": [
      "The Mean Square error is 1.1820004596173297\n"
     ]
    }
   ],
   "source": [
    "rms=sqrt(msc(y_test,y_pred))\n",
    "print('The Mean Square error is', rms)"
   ]
  },
  {
   "cell_type": "code",
   "execution_count": null,
   "id": "208fb60e",
   "metadata": {},
   "outputs": [],
   "source": []
  }
 ],
 "metadata": {
  "kernelspec": {
   "display_name": "Python 3",
   "language": "python",
   "name": "python3"
  },
  "language_info": {
   "codemirror_mode": {
    "name": "ipython",
    "version": 3
   },
   "file_extension": ".py",
   "mimetype": "text/x-python",
   "name": "python",
   "nbconvert_exporter": "python",
   "pygments_lexer": "ipython3",
   "version": "3.8.8"
  }
 },
 "nbformat": 4,
 "nbformat_minor": 5
}
